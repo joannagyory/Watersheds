{
 "cells": [
  {
   "cell_type": "code",
   "execution_count": 2,
   "metadata": {},
   "outputs": [],
   "source": [
    "import pandas as pd\n",
    "import numpy as np\n",
    "import os"
   ]
  },
  {
   "cell_type": "code",
   "execution_count": 4,
   "metadata": {},
   "outputs": [],
   "source": [
    "# Change directory to the data directory\n",
    "os.chdir(\"C:/Users/Joanna/Desktop/Analytics/Fall Semester/Watershed Analytics Project/Water sensor data\")"
   ]
  },
  {
   "cell_type": "code",
   "execution_count": 6,
   "metadata": {},
   "outputs": [
    {
     "name": "stderr",
     "output_type": "stream",
     "text": [
      "C:\\Users\\Joanna\\Anaconda3\\lib\\site-packages\\IPython\\core\\interactiveshell.py:2728: DtypeWarning: Columns (0) have mixed types. Specify dtype option on import or set low_memory=False.\n",
      "  interactivity=interactivity, compiler=compiler, result=result)\n"
     ]
    }
   ],
   "source": [
    "BDC = pd.read_csv(\"BDC_WQual_Level4.csv\", header=\"infer\")\n",
    "BEF = pd.read_csv(\"BEF_WQual_Level4.csv\", header=\"infer\")\n",
    "DCF = pd.read_csv(\"DCF_WQual_Level4.csv\", header=\"infer\")\n",
    "GOF = pd.read_csv(\"GOF_WQual_Level4.csv\", header=\"infer\")\n",
    "HBF = pd.read_csv(\"HBF_WQual_Level4.csv\", header=\"infer\")\n",
    "LMP = pd.read_csv(\"LMP_WQual_Level4.csv\", header=\"infer\")\n",
    "MCQ = pd.read_csv(\"LMP_WQual_Level4.csv\", header=\"infer\")\n",
    "SBM = pd.read_csv(\"SBM_WQual_Level4.csv\", header=\"infer\")\n",
    "TPB = pd.read_csv(\"TPB_WQual_Level4.csv\", header=\"infer\")\n",
    "WHB = pd.read_csv(\"WHB_WQual_Level4.csv\", header=\"infer\")"
   ]
  },
  {
   "cell_type": "code",
   "execution_count": 10,
   "metadata": {},
   "outputs": [],
   "source": [
    "CommonColumns = pd.DataFrame(list(BDC.columns & BEF.columns & DCF.columns & GOF.columns & HBF.columns & LMP.columns & MCQ.columns & SBM.columns & TPB.columns & WHB.columns))"
   ]
  },
  {
   "cell_type": "code",
   "execution_count": 11,
   "metadata": {},
   "outputs": [
    {
     "data": {
      "text/html": [
       "<div>\n",
       "<style scoped>\n",
       "    .dataframe tbody tr th:only-of-type {\n",
       "        vertical-align: middle;\n",
       "    }\n",
       "\n",
       "    .dataframe tbody tr th {\n",
       "        vertical-align: top;\n",
       "    }\n",
       "\n",
       "    .dataframe thead th {\n",
       "        text-align: right;\n",
       "    }\n",
       "</style>\n",
       "<table border=\"1\" class=\"dataframe\">\n",
       "  <thead>\n",
       "    <tr style=\"text-align: right;\">\n",
       "      <th></th>\n",
       "      <th>0</th>\n",
       "    </tr>\n",
       "  </thead>\n",
       "  <tbody>\n",
       "    <tr>\n",
       "      <th>0</th>\n",
       "      <td>Site</td>\n",
       "    </tr>\n",
       "    <tr>\n",
       "      <th>1</th>\n",
       "      <td>Date</td>\n",
       "    </tr>\n",
       "    <tr>\n",
       "      <th>2</th>\n",
       "      <td>RECORD</td>\n",
       "    </tr>\n",
       "    <tr>\n",
       "      <th>3</th>\n",
       "      <td>Nitrate_mg</td>\n",
       "    </tr>\n",
       "    <tr>\n",
       "      <th>4</th>\n",
       "      <td>TempC</td>\n",
       "    </tr>\n",
       "  </tbody>\n",
       "</table>\n",
       "</div>"
      ],
      "text/plain": [
       "            0\n",
       "0        Site\n",
       "1        Date\n",
       "2      RECORD\n",
       "3  Nitrate_mg\n",
       "4       TempC"
      ]
     },
     "execution_count": 11,
     "metadata": {},
     "output_type": "execute_result"
    }
   ],
   "source": [
    "CommonColumns.head()"
   ]
  },
  {
   "cell_type": "code",
   "execution_count": 12,
   "metadata": {},
   "outputs": [],
   "source": [
    "CommonColumns.to_csv(\"C:/Users/Joanna/Desktop/Analytics/Fall Semester/Watershed Analytics Project/Water sensor data/CommonColumns.csv\", index=False)"
   ]
  },
  {
   "cell_type": "code",
   "execution_count": null,
   "metadata": {},
   "outputs": [],
   "source": []
  }
 ],
 "metadata": {
  "kernelspec": {
   "display_name": "Python 3",
   "language": "python",
   "name": "python3"
  },
  "language_info": {
   "codemirror_mode": {
    "name": "ipython",
    "version": 3
   },
   "file_extension": ".py",
   "mimetype": "text/x-python",
   "name": "python",
   "nbconvert_exporter": "python",
   "pygments_lexer": "ipython3",
   "version": "3.6.4"
  }
 },
 "nbformat": 4,
 "nbformat_minor": 2
}

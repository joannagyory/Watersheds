{
 "cells": [
  {
   "cell_type": "code",
   "execution_count": 1,
   "metadata": {},
   "outputs": [],
   "source": [
    "import numpy as np\n",
    "import pandas as pd\n",
    "import xgboost as xgb\n",
    "import matplotlib.pyplot as plt\n",
    "import os\n",
    "from sklearn.metrics import mean_squared_error\n",
    "from sklearn.preprocessing import StandardScaler\n",
    "from xgboost import XGBRegressor, DMatrix\n",
    "from sklearn.metrics import explained_variance_score\n",
    "from sklearn.metrics import r2_score\n",
    "\n",
    "\n",
    "import warnings\n",
    "warnings.filterwarnings(\"ignore\", category=DeprecationWarning)"
   ]
  },
  {
   "cell_type": "code",
   "execution_count": 2,
   "metadata": {},
   "outputs": [],
   "source": [
    "# Change directory to the data directory\n",
    "os.chdir(\"C:/Users/\")"
   ]
  },
  {
   "cell_type": "code",
   "execution_count": 3,
   "metadata": {},
   "outputs": [],
   "source": [
    "# Read data\n",
    "X_train = pd.read_csv(\"train_X.csv\", header=\"infer\")\n",
    "y_train = pd.read_csv(\"train_y.csv\", header=\"infer\")\n",
    "\n",
    "X_test = pd.read_csv(\"test_X.csv\", header=\"infer\")\n",
    "y_test = pd.read_csv(\"test_y.csv\", header=\"infer\")"
   ]
  },
  {
   "cell_type": "markdown",
   "metadata": {},
   "source": [
    "## Preparing data"
   ]
  },
  {
   "cell_type": "code",
   "execution_count": null,
   "metadata": {},
   "outputs": [],
   "source": [
    "# # Scale training data\n",
    "ss = StandardScaler()\n",
    "scaledXtrain = pd.DataFrame(ss.fit_transform(X_train))\n",
    "scaledXtrain.columns = X_train.columns\n",
    "\n",
    "# # Scale test data\n",
    "scaledXtest = pd.DataFrame(ss.transform(X_test))\n",
    "scaledXtest.columns = X_test.columns\n",
    "\n",
    "X_train = scaledXtrain\n",
    "X_test = scaledXtest"
   ]
  },
  {
   "cell_type": "code",
   "execution_count": 5,
   "metadata": {},
   "outputs": [],
   "source": [
    "# Convert the dataset into the optimized data structure called Dmatrix\n",
    "data_dmatrix = xgb.DMatrix(data=X_train,label=y_train)"
   ]
  },
  {
   "cell_type": "markdown",
   "metadata": {},
   "source": [
    "## Run XGBoost"
   ]
  },
  {
   "cell_type": "code",
   "execution_count": null,
   "metadata": {},
   "outputs": [],
   "source": [
    "# Tuning hyperparameters\n",
    "from sklearn.model_selection import GridSearchCV\n",
    "\n",
    "xgb1 = XGBRegressor()\n",
    "\n",
    "# Parameter grid search\n",
    "parameters = {'objective':['reg:linear'],\n",
    "              'learning_rate': [.01, 0.1, 0.2], \n",
    "              'max_depth': [3, 6, 10],\n",
    "              'min_child_weight': [1, 3, 4],\n",
    "              'silent': [0],\n",
    "              'subsample': [0.5, 0.7, 1],\n",
    "              'colsample_bytree': [0.5, 0.8, 1],\n",
    "              'n_estimators': [10, 25, 50],\n",
    "              'alpha': [0,10]}\n",
    "\n",
    "xgb_grid = GridSearchCV(xgb1,\n",
    "                        parameters,\n",
    "                        n_jobs = -1,\n",
    "                        verbose=True)\n",
    "\n",
    "xgb_grid.fit(X_train,\n",
    "         y_train)"
   ]
  },
  {
   "cell_type": "code",
   "execution_count": null,
   "metadata": {},
   "outputs": [],
   "source": [
    "# View the optimal parameters and their model score\n",
    "print(xgb_grid.best_params_)\n",
    "print(xgb_grid.best_score_)"
   ]
  },
  {
   "cell_type": "code",
   "execution_count": 8,
   "metadata": {},
   "outputs": [],
   "source": [
    "# Run XGB Regressor with the best parameters\n",
    "xg_reg = xgb.XGBRegressor(**xgb_grid.best_params_)"
   ]
  },
  {
   "cell_type": "code",
   "execution_count": null,
   "metadata": {},
   "outputs": [],
   "source": [
    "# Fit the regressor to the training set and make predictions on the test set\n",
    "xg_reg.fit(X_train,y_train)\n",
    "preds = xg_reg.predict(X_test)"
   ]
  },
  {
   "cell_type": "code",
   "execution_count": null,
   "metadata": {},
   "outputs": [],
   "source": [
    "# View the predictions\n",
    "print(preds)"
   ]
  },
  {
   "cell_type": "code",
   "execution_count": null,
   "metadata": {},
   "outputs": [],
   "source": [
    "# Compute the rmse\n",
    "rmse = np.sqrt(mean_squared_error(y_test, preds))\n",
    "print(\"RMSE: %f\" % (rmse))"
   ]
  },
  {
   "cell_type": "code",
   "execution_count": null,
   "metadata": {},
   "outputs": [],
   "source": [
    "# View results\n",
    "print(\"r^2: %f\" % r2_score(y_test, preds))\n",
    "print(\" \")\n",
    "print(\"Explained Variance Score: %f\" % explained_variance_score(y_test, preds))\n",
    "print(\" \")\n",
    "print(\"Accuracy score, test: %f\" % xg_reg.score(X_test, y_test))\n",
    "print(\" \")\n",
    "print(\"Accuracy score, train: %f\" % xg_reg.score(X_train, y_train))"
   ]
  },
  {
   "cell_type": "markdown",
   "metadata": {},
   "source": [
    "## Using k-fold cross-validation to calculate RMSE for training set"
   ]
  },
  {
   "cell_type": "code",
   "execution_count": null,
   "metadata": {},
   "outputs": [],
   "source": [
    "# dtrain: the data from the Dmatrix\n",
    "# params: hyperparameter dictionary\n",
    "# nfolds: number of folds\n",
    "# early_stopping_rounds: finishes training the model early if the hold-out metric (\"rmse\" in this case) doesn't improve \n",
    "#                        for a given number of rounds\n",
    "# metrics: evaluation metrics to watch during CV (in this case, \"rmse\")\n",
    "# as_pandas: return results in a pandas dataframe\n",
    "# seed: for reproducibility of results\n",
    "\n",
    "# Define the parameters as the best ones from the grid search\n",
    "params = xgb_grid.best_params_\n",
    "\n",
    "# Run 3-fold cross validation with the best parameters\n",
    "cv_results = xgb.cv(dtrain=data_dmatrix, params=params, nfold=3, early_stopping_rounds=20,\n",
    "                   metrics=\"rmse\", as_pandas=True, seed=123)\n",
    "\n",
    "# View some of the results\n",
    "cv_results.tail()"
   ]
  },
  {
   "cell_type": "code",
   "execution_count": null,
   "metadata": {},
   "outputs": [],
   "source": [
    "# The \"test-rmse-mean\" is the mean RMSE of the subsets of the training data that were held out for cross-validation\n",
    "print((cv_results[\"test-rmse-mean\"]).tail(1))"
   ]
  },
  {
   "cell_type": "markdown",
   "metadata": {},
   "source": [
    "## Visualizing feature importance"
   ]
  },
  {
   "cell_type": "code",
   "execution_count": 15,
   "metadata": {
    "scrolled": true
   },
   "outputs": [
    {
     "data": {
      "image/png": "[encoded data removed]",
      "text/plain": [
       "<matplotlib.figure.Figure at 0x2f793185160>"
      ]
     },
     "metadata": {},
     "output_type": "display_data"
    }
   ],
   "source": [
    "xgb.plot_importance(xg_reg)\n",
    "plt.rcParams['figure.figsize'] = [5, 5]\n",
    "plt.show()"
   ]
  }
 ],
 "metadata": {
  "kernelspec": {
   "display_name": "Python 3",
   "language": "python",
   "name": "python3"
  },
  "language_info": {
   "codemirror_mode": {
    "name": "ipython",
    "version": 3
   },
   "file_extension": ".py",
   "mimetype": "text/x-python",
   "name": "python",
   "nbconvert_exporter": "python",
   "pygments_lexer": "ipython3",
   "version": "3.6.4"
  }
 },
 "nbformat": 4,
 "nbformat_minor": 2
}
